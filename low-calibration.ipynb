{
 "cells": [
  {
   "cell_type": "markdown",
   "metadata": {},
   "source": [
    "### Notebook to perform Zernike polynominal analysis of SKA1-LOW and LOFAR calibration"
   ]
  },
  {
   "cell_type": "code",
   "execution_count": null,
   "metadata": {
    "collapsed": false
   },
   "outputs": [],
   "source": [
    "%matplotlib inline\n",
    "import pylab\n",
    "pylab.rcParams['figure.figsize'] = (8.0, 8.0)\n",
    "#pylab.rcParams['image.cmap'] = 'rainbow'\n",
    "\n",
    "from see import see\n",
    "\n",
    "from telutil import *\n",
    "\n",
    "import subprocess\n",
    "print \"Working from Git repository %s\" % subprocess.check_output([\"git\",  \"describe\", \"--long\", \"--all\"])\n",
    "\n",
    "def timestamp():\n",
    "    from datetime import datetime\n",
    "    print \"%s %s\" % (datetime.now().date(), datetime.now().time())\n",
    "    \n",
    "\n",
    "def trials(ntrials,nsources,config,name,rmin=0,rmax=200.0,tiono=10,tobs=10000*3600.0,snrthreshold=5.0):\n",
    "    tp=TelPiercings()\n",
    "\n",
    "    timestamp()\n",
    "\n",
    "    # Minimum SNR=10 per pierce point\n",
    "    for trial in range(ntrials):\n",
    "        ts=TelSources()\n",
    "        ts.construct(nsources=nsources, radius=wavelength/stationdiameter)\n",
    "\n",
    "\n",
    "        tp.construct(ts,config,hiono=hiono,rmin=rmin,rmax=HWZ)\n",
    "        if trial==0:\n",
    "            tp.plot(rcore=HWZ, rmax=2.0*HWZ)\n",
    "\n",
    "        s=numpy.sqrt(tp.assess(nnoll=nnoll, rmax=HWZ, doplot=(trial==0)))\n",
    "        print \"Trial %d, max(s)=%.1f\" % (trial, numpy.max(s))\n",
    "\n",
    "        if trial==0:\n",
    "            Save=s/float(ntrials)\n",
    "        else:\n",
    "            Save=Save+s/float(ntrials)\n",
    "    J=len(Save[Save>snrthreshold])\n",
    "    if J<1:\n",
    "        J=1\n",
    "    DR=TelIono().dr(J,tobs=tobs)\n",
    "    tobs=TelIono().tobs(J,DR=1e5)\n",
    "\n",
    "    return {'dr':DR, 's':Save, 'J':J, 'tobs':tobs}\n",
    "\n",
    "random.seed(781490893)\n",
    "\n",
    "rhalo=40.0\n",
    "nnoll=1000\n",
    "wavelength=3.0\n",
    "stationdiameter=35.0\n",
    "rcore=0.5\n",
    "rmin=0.0\n",
    "rmax=40.0\n",
    "hiono=300.0\n",
    "HWZ=hiono*wavelength/stationdiameter # Half width to Zero\n",
    "print \"FOV (HWZ) at ionosphere=%.1f km\" % HWZ"
   ]
  },
  {
   "cell_type": "markdown",
   "metadata": {
    "collapsed": true
   },
   "source": [
    "### Define all configs and plot"
   ]
  },
  {
   "cell_type": "code",
   "execution_count": null,
   "metadata": {
    "collapsed": false,
    "scrolled": false
   },
   "outputs": [],
   "source": [
    "\n",
    "stats={}\n",
    "tel={}\n",
    "mst={}\n",
    "#configs = ['LOWBD2', 'LOWBD2-CORE', 'LOWBD2-HALO', 'LOWBD2-RASTERHALO',\n",
    "#                'LOWBD2-RASTERHALO25KM', 'LOFAR']\n",
    "\n",
    "configs = ['LOWBD2','LOWBD2-CORE', 'LOWBD2-RASTERHALO','LOWBD2-RASTERHALO25KM']\n",
    "\n",
    "for config in configs:\n",
    "\n",
    "\n",
    "# Define all config variants\n",
    "    tel[config]=TelArray()\n",
    "    if config=='LOWBD2':\n",
    "        tel[config].readKML(kmlfile='V4Drsst512red_2.kml')\n",
    "        tel[config].saveCSV('LOWBD2.csv')\n",
    "    elif config =='LOWBD2-CORE':\n",
    "        tel[config].readCSV('LOWBD2-CORE', l1def='LOWBD2-CORE.csv', recenter=True)\n",
    "    elif config =='LOWBD2-HALO':\n",
    "        tel[config].readCSV('LOWBD2-HALO', l1def='LOWBD2-HALO.csv', recenter=True)\n",
    "    elif config == 'LOWBD2-RASTERHALO':\n",
    "        tel['RASTERHALO']=TelArray()\n",
    "        tel['RASTERHALO'].rasterBoolardy(nhalo=346, name='LOWRASTERHALO', nstations=346, scale=1.0, \\\n",
    "                           rhalo=40.0, rcore=0.0)\n",
    "        tel[config]=TelArray().add(tel['RASTERHALO'],tel['LOWBD2-CORE'],name=config)\n",
    "    elif config == 'LOWBD2-RASTERHALO25KM':\n",
    "        tel['RASTERHALO25KM']=TelArray()\n",
    "        tel['RASTERHALO25KM'].rasterBoolardy(nhalo=346, name='LOWRASTERHALO25KM', nstations=346, scale=40.0/25.7, \\\n",
    "                           rhalo=25.7, rcore=0.0)\n",
    "        tel[config]=TelArray().add(tel['RASTERHALO25KM'],tel['LOWBD2-CORE'],name=config)\n",
    "    elif config =='LOFAR':\n",
    "        tel[config].readLOFAR()\n",
    "# Plot and save the figure        \n",
    "    tel[config].plot()\n",
    "    plt.show()\n",
    "    plt.savefig('%s.pdf'%config)"
   ]
  },
  {
   "cell_type": "code",
   "execution_count": null,
   "metadata": {
    "collapsed": true
   },
   "outputs": [],
   "source": [
    "### Now assess Minimum Spanning Tree. This is a proxy for infrastructure costs."
   ]
  },
  {
   "cell_type": "code",
   "execution_count": null,
   "metadata": {
    "collapsed": false,
    "scrolled": false
   },
   "outputs": [],
   "source": [
    "def msts():\n",
    "    for config in configs:\n",
    "        mst[config]=tel[config].mst()\n",
    "            \n",
    "msts()"
   ]
  },
  {
   "cell_type": "markdown",
   "metadata": {},
   "source": [
    "### Now assess all configs for varying numbers of sources"
   ]
  },
  {
   "cell_type": "code",
   "execution_count": null,
   "metadata": {
    "collapsed": false,
    "scrolled": false
   },
   "outputs": [],
   "source": [
    "ntrials=10\n",
    "\n",
    "sources=[5, 10]\n",
    "\n",
    "stats={}\n",
    "\n",
    "for nsource in sources:\n",
    "\n",
    "    for config in configs:\n",
    "        print \"Processing %s %d sources\" % (config, nsource)\n",
    "        timestamp()\n",
    "\n",
    "\n",
    "        if nsource==sources[0]:\n",
    "            stats[config]={}\n",
    "\n",
    "        stats[config][nsource]=trials(ntrials, nsource, tel[config], config)\n",
    "        \n",
    "timestamp()\n",
    "\n",
    "\n",
    "\n"
   ]
  },
  {
   "cell_type": "markdown",
   "metadata": {},
   "source": [
    "### Now plot results for all the configs"
   ]
  },
  {
   "cell_type": "code",
   "execution_count": null,
   "metadata": {
    "collapsed": false,
    "scrolled": false
   },
   "outputs": [],
   "source": [
    "plt.clf()\n",
    "\n",
    "for nsource in sources:\n",
    "    ymax=0.1\n",
    "    for config in stats.keys():\n",
    "        y=stats[config][nsource]['s']\n",
    "        if numpy.max(y)>ymax:\n",
    "            ymax=numpy.max(y)\n",
    "        x=numpy.arange(nnoll)\n",
    "        plt.semilogy(x, y, label=config)\n",
    "    plt.legend(loc=\"upper right\")\n",
    "    plt.xlim([1,1000])\n",
    "    plt.ylim([0.1,ymax])\n",
    "    plt.xlabel('Singular vector index')\n",
    "    plt.ylabel('Singular value')\n",
    "    plt.title('Singular value spectra for different configurations: %d source' % nsource)\n",
    "    plt.show()\n",
    "\n",
    "    plt.savefig('SingularValues_sources%d.pdf' % nsource)"
   ]
  },
  {
   "cell_type": "code",
   "execution_count": null,
   "metadata": {
    "collapsed": false
   },
   "outputs": [],
   "source": [
    "plt.clf()\n",
    "\n",
    "for config in stats.keys():\n",
    "    i=0\n",
    "    x=numpy.zeros(len(sources))\n",
    "    y=numpy.zeros(len(sources))\n",
    "    for nsource in sources:\n",
    "        x[i]=nsource\n",
    "        y[i]=stats[config][nsource]['tobs']/(365.0*24.0*3600.0)\n",
    "        i=i+1\n",
    "    plt.semilogy(x, y, label=config)\n",
    "plt.legend(loc=\"upper right\")\n",
    "plt.xlabel('Number of sources')\n",
    "plt.xlim([0,35])\n",
    "plt.ylabel('Time on-sky to reach 50dB (years)')\n",
    "plt.title('Time on-sky to reach 50dB vs number of sources')\n",
    "plt.show()\n",
    "plt.savefig('Timeonsky.pdf')\n",
    "    "
   ]
  },
  {
   "cell_type": "code",
   "execution_count": null,
   "metadata": {
    "collapsed": false
   },
   "outputs": [],
   "source": [
    "plt.clf()\n",
    "\n",
    "config = 'LOWBD2'\n",
    "\n",
    "for nsource in sources:\n",
    "    ymax=0.1\n",
    "    y=stats[config][nsource]['s']\n",
    "    if numpy.max(y)>ymax:\n",
    "        ymax=numpy.max(y)\n",
    "    x=numpy.arange(nnoll)\n",
    "    plt.semilogy(x, y, label='Number of sources %d' %nsource)\n",
    "\n",
    "plt.legend(loc=\"upper right\")\n",
    "plt.xlim([1,500])\n",
    "plt.ylim([0.1,ymax])\n",
    "plt.xlabel('Singular vector index')\n",
    "plt.ylabel('Singular value')\n",
    "plt.title('Singular value spectra for different numbers of sources %s' % (config))\n",
    "plt.show()\n",
    "plt.savefig('%s_Sources.pdf' % config)"
   ]
  },
  {
   "cell_type": "code",
   "execution_count": null,
   "metadata": {
    "collapsed": false,
    "scrolled": false
   },
   "outputs": [],
   "source": [
    "def printstats(stats):\n",
    "    print \"Config, Nsources, peak, J, DR, tobs, MST\" \n",
    "\n",
    "    for config in configs:\n",
    "        for nsources in sources:\n",
    "            print \"%s, %d, %.1f, %d, %.1f, %.1f, %.1f\" \\\n",
    "            % (config, nsources, stats[config][nsources]['s'][0], \\\n",
    "               stats[config][nsources]['J'], \\\n",
    "            10.0*numpy.log10(stats[config][nsources]['dr']), \\\n",
    "               stats[config][nsources]['tobs']/(24.0*3600.0*365.0), \n",
    "               mst[config])\n",
    "\n",
    "\n",
    "printstats(stats)"
   ]
  },
  {
   "cell_type": "code",
   "execution_count": null,
   "metadata": {
    "collapsed": true
   },
   "outputs": [],
   "source": []
  }
 ],
 "metadata": {
  "kernelspec": {
   "display_name": "Python 2",
   "language": "python",
   "name": "python2"
  },
  "language_info": {
   "codemirror_mode": {
    "name": "ipython",
    "version": 2
   },
   "file_extension": ".py",
   "mimetype": "text/x-python",
   "name": "python",
   "nbconvert_exporter": "python",
   "pygments_lexer": "ipython2",
   "version": "2.7.11"
  }
 },
 "nbformat": 4,
 "nbformat_minor": 0
}
