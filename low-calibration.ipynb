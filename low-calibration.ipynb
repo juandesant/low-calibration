{
 "cells": [
  {
   "cell_type": "markdown",
   "metadata": {},
   "source": [
    "### Notebook to perform Zernike polynominal analysis of SKA1-LOW and LOFAR calibration"
   ]
  },
  {
   "cell_type": "code",
   "execution_count": null,
   "metadata": {
    "collapsed": false
   },
   "outputs": [],
   "source": [
    "%matplotlib inline\n",
    "import pylab\n",
    "pylab.rcParams['figure.figsize'] = (8.0, 8.0)\n",
    "#pylab.rcParams['image.cmap'] = 'rainbow' \n",
    "\n",
    "from telopt import *\n",
    "import subprocess\n",
    "print \"Working from Git repository %s\" % subprocess.check_output([\"git\",  \"describe\", \"--long\", \"--all\"])\n",
    "\n",
    "def DR(J, r0=14.0, B=80, tobs=10000.*3600.0, tiono=10.0):\n",
    "    return 3.397 * math.pow(J, math.sqrt(3)/4.0) * math.pow(B/r0, -5.0/6.0) * math.sqrt(tobs/tiono)\n",
    "\n",
    "def trials(ntrials,config,name,rmin=0,rmax=200.0,tiono=10,tobs=10000*3600.0,snrthreshold=5.0):\n",
    "    tp=TelPiercings()\n",
    "\n",
    "    random.seed(781490893)\n",
    "\n",
    "    # Minimum SNR=10 per pierce point\n",
    "    DRave=0\n",
    "    Jave=0.0\n",
    "    for trial in range(ntrials):\n",
    "        ts=TelSources()\n",
    "        ts.construct(nsources=nsources, radius=wavelength/stationdiameter)\n",
    "\n",
    "\n",
    "        tp.construct(ts,config,hiono=hiono,rmin=rmin,rmax=HWZ)\n",
    "        if trial==0:\n",
    "            tp.plot(rcore=HWZ, rmax=2.0*HWZ)\n",
    "\n",
    "        s=numpy.sqrt(tp.assess(nnoll=nnoll, rmax=HWZ, doplot=(trial==0)))\n",
    "        J=len(s[s>snrthreshold])\n",
    "        if trial==0:\n",
    "            Save=s/float(ntrials)\n",
    "        else:\n",
    "            Save=Save+s/float(ntrials)\n",
    "        Jave=Jave+J/float(ntrials)\n",
    "        DRave=DRave+DR(J,tobs=tobs)/float(ntrials)\n",
    "\n",
    "    return {'dr':DRave, 's':Save, 'J':Jave}\n",
    "            \n",
    "def plotstats(stats):\n",
    "    plt.clf()\n",
    "    colors={'LOWBD2':'b', 'LOWBD2-CORE':'g', 'LOWBD2-HALO':'r', 'LOWBD2-RASTERHALO':'c', 'LOWBD2-RASTER':'m', 'LOFAR':'k'}\n",
    "    for name in stats.keys():\n",
    "        plt.semilogy(range(len(stats[name]['s'])), stats[name]['s'], color=colors[name], label=name)\n",
    "    plt.xlabel('Singular vector index')\n",
    "    plt.ylabel('Singular value')\n",
    "    plt.legend(loc='upper right')\n",
    "    plt.title('Singular values for %d source(s)' % nsources)\n",
    "    maxs=nsources*nnoll\n",
    "    plt.axes().set_xlim([1,nnoll])\n",
    "    plt.axes().set_ylim([-10.0,30.0])\n",
    "    name='SingularValues_sources%d' % nsources\n",
    "    plt.show()\n",
    "    plt.savefig('%s.pdf' % name)\n",
    "\n",
    "\n",
    "ntrials=10\n",
    "rhalo=40.0\n",
    "nsources=7\n",
    "nnoll=400\n",
    "wavelength=3.0\n",
    "stationdiameter=35.0\n",
    "rcore=0.5\n",
    "rmin=0.0\n",
    "rmax=40.0\n",
    "hiono=300.0\n",
    "HWZ=hiono*wavelength/stationdiameter # Half width to Zero\n",
    "print \"FOV (HWZ) at ionosphere=%.1f km\" % HWZ"
   ]
  },
  {
   "cell_type": "markdown",
   "metadata": {
    "collapsed": true
   },
   "source": [
    "### Look at all arrays"
   ]
  },
  {
   "cell_type": "code",
   "execution_count": null,
   "metadata": {
    "collapsed": false,
    "scrolled": false
   },
   "outputs": [],
   "source": [
    "for nsources in [7]:\n",
    "    ts=TelSources()\n",
    "    random.seed(781490893)\n",
    "    ts.construct(nsources=nsources, radius=wavelength/stationdiameter)\n",
    "    stats={}\n",
    "    lowbd=TelArray()\n",
    "    lowbd.readKML(kmlfile='V4Drsst512red_2.kml')\n",
    "    lowbd.saveCSV('LOWBD2.csv')\n",
    "    lowbd.plot()\n",
    "    stats['LOWBD2']=trials(ntrials, lowbd, 'LOWBD2')\n",
    "    stats['LOWBD2']['MST'] = lowbd.mst()\n",
    "    plotstats(stats)\n",
    "    lowcore=TelArray()\n",
    "    lowcore.readCSV('LOWBD2-CORE', l1def='LOWBD2-CORE.csv',recenter=True)\n",
    "    lowcore.plot()\n",
    "    stats['LOWBD2-CORE']=trials(ntrials, lowcore, 'LOWCORE')\n",
    "    stats['LOWBD2-CORE']['MST'] = lowcore.mst()\n",
    "    plotstats(stats)\n",
    "    lowhalo=TelArray()\n",
    "    lowhalo.readCSV('LOWBD2-HALO', l1def='LOWBD2-HALO.csv')\n",
    "    lowhalo.plot()\n",
    "    stats['LOWBD2-HALO']=trials(ntrials, lowhalo, 'LOWBD2-HALO')\n",
    "    stats['LOWBD2-HALO']['MST'] = lowhalo.mst()\n",
    "    plotstats(stats)\n",
    "    rmin=0.5\n",
    "    lowhalo=TelArray()\n",
    "    lowhalo.rasterBoolardy(nhalo=346, name='LOWRASTERHALO', nstations=346, scale=1.0, rhalo=rhalo\n",
    "                       , rcore=0.0)\n",
    "    lowcore=TelArray()\n",
    "    lowcore.readCSV('LOWCORE', l1def='LOWBD2-CORE.csv',recenter=True)\n",
    "    lowraster=TelArray().add(lowhalo,lowcore,name='LOWBD2-RASTERHALO')\n",
    "    lowraster.plot()\n",
    "    stats['LOWBD2-RASTERHALO']=trials(ntrials, lowraster, 'LOWBD2-RASTERHALO')\n",
    "    stats['LOWBD2-RASTERHALO']['MST'] = lowraster.mst()\n",
    "    plotstats(stats)\n",
    "    lofar=TelArray()\n",
    "    lofar.readLOFAR()\n",
    "    lofar.plot()\n",
    "    stats['LOFAR']=trials(ntrials, lofar, 'LOFAR')\n",
    "    stats['LOFAR']['MST'] = lofar.mst()\n",
    "    plotstats(stats)\n",
    "    print \"Number of sources %d \" % nsources\n",
    "    for key in stats.keys():\n",
    "        print \"Array %s peak=%.1f, DR=%.1f, MST=%.1f\" % (key, stats[key]['s'][0], stats[key]['dr'], stats[key]['MST'])"
   ]
  },
  {
   "cell_type": "code",
   "execution_count": null,
   "metadata": {
    "collapsed": true
   },
   "outputs": [],
   "source": []
  },
  {
   "cell_type": "code",
   "execution_count": null,
   "metadata": {
    "collapsed": true
   },
   "outputs": [],
   "source": []
  }
 ],
 "metadata": {
  "kernelspec": {
   "display_name": "Python 2",
   "language": "python",
   "name": "python2"
  },
  "language_info": {
   "codemirror_mode": {
    "name": "ipython",
    "version": 2
   },
   "file_extension": ".py",
   "mimetype": "text/x-python",
   "name": "python",
   "nbconvert_exporter": "python",
   "pygments_lexer": "ipython2",
   "version": "2.7.11"
  }
 },
 "nbformat": 4,
 "nbformat_minor": 0
}
