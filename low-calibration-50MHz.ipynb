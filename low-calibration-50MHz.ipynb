{
 "cells": [
  {
   "cell_type": "markdown",
   "metadata": {},
   "source": [
    "### Notebook to perform Zernike polynominal analysis of SKA1-LOW and LOFAR calibration"
   ]
  },
  {
   "cell_type": "code",
   "execution_count": null,
   "metadata": {
    "collapsed": false
   },
   "outputs": [],
   "source": [
    "%matplotlib inline\n",
    "import pylab\n",
    "pylab.rcParams['figure.figsize'] = (8.0, 8.0)\n",
    "#pylab.rcParams['image.cmap'] = 'rainbow'\n",
    "\n",
    "from telutil import *\n",
    "\n",
    "import subprocess\n",
    "print \"Working from Git repository %s\" % subprocess.check_output([\"git\",  \"describe\", \"--long\", \"--all\"])\n",
    "\n",
    "def timestamp():\n",
    "    from datetime import datetime\n",
    "    print \"%s %s\" % (datetime.now().date(), datetime.now().time())    \n",
    "\n",
    "def trials(ntrials,nsources,config,name,rmin=0,rmax=200.0,tiono=10,tsky=10000*3600.0,snrthreshold=5.0):\n",
    "    tp=TelPiercings()\n",
    "\n",
    "    timestamp()\n",
    "\n",
    "    for trial in range(ntrials):\n",
    "        ts=TelSources()\n",
    "        ts.construct(nsources=nsources, radius=wavelength/stationdiameter)\n",
    "        tp.construct(ts,config, weight=weight, hiono=hiono)\n",
    "        if trial==0:\n",
    "            tp.plot(rmax=HWZ)\n",
    "\n",
    "        s=numpy.sqrt(tp.assess(nnoll=nnoll, rmax=HWZ, doplot=(trial==0)))\n",
    "        print \"Trial %d, max(s)=%.1f\" % (trial, numpy.max(s))\n",
    "\n",
    "        if trial==0:\n",
    "            Save=s/float(ntrials)\n",
    "        else:\n",
    "            Save=Save+s/float(ntrials)\n",
    "    J=len(Save[Save>snrthreshold])\n",
    "    if J<1:\n",
    "        J=1\n",
    "    DR=TelIono().dr(J,tsky=tsky,B=2*HWZ)\n",
    "    itsky=TelIono().tsky(J,DR=1e5,B=2*HWZ)\n",
    "    stdphase=numpy.sqrt(TelIono().varphase(J,B=2*HWZ))\n",
    "\n",
    "    return {'dr':DR, 's':Save, 'J':J, 'tsky':itsky, 'stdphase':stdphase}\n",
    "\n",
    "def printstats(stats):\n",
    "    print \"Config, Nsources, peak, J, stdphase, DR, sky, MST\" \n",
    "\n",
    "    for config in configs:\n",
    "        for nsources in lsources:\n",
    "            print \"%s, %d, %.1f, %d, %.2f, %.1f, %.1f, %.1f\" \\\n",
    "            % (config, nsources, stats[config][nsources]['s'][0], \\\n",
    "               stats[config][nsources]['J'], \\\n",
    "               stats[config][nsources]['stdphase'], \\\n",
    "            10.0*numpy.log10(stats[config][nsources]['dr']), \\\n",
    "               stats[config][nsources]['tsky']/(24.0*3600.0*365.0), \n",
    "               mst[config])\n",
    "\n",
    "random.seed(781490893)\n",
    "\n",
    "nstations=512\n",
    "nnoll=1000\n",
    "\n",
    "wavelength=6.0\n",
    "stationdiameter=35.0\n",
    "rcore=0.5\n",
    "rmin=0.0\n",
    "hiono=300.0\n",
    "\n",
    "HWZ=hiono*wavelength/stationdiameter # Half width to Zero\n",
    "FOV=(0.5*wavelength/stationdiameter)**2\n",
    "\n",
    "rhalo=HWZ\n",
    "rmax=HWZ\n",
    "print \"FOV (HWZ) at ionosphere=%.1f km\" % HWZ\n",
    "\n",
    "# Frequency\n",
    "freq=3.0e8/wavelength\n",
    "print \"Observing frequency = %.2f MHz\" % (freq/1e6)\n",
    "\n",
    "tiono=10.0*numpy.power(wavelength/3.0,-5.0/6.0)\n",
    "print \"Ionospheric coherence time = %.1f (s)\" % (tiono)\n",
    "\n",
    "# Calculate weight of solution for each pierce point\n",
    "imgnoise=sources().tnoise(time=tiono, freq=freq)*(float(nstations)/512)*(35.0/stationdiameter)**2\n",
    "print \"Image noise in %.1f s = %.3f Jy\" % (tiono, imgnoise)\n",
    "\n",
    "visnoise=sources().tnoise(time=tiono, freq=freq)*float(512)*(35.0/stationdiameter)**2\n",
    "print \"Visibility noise in %.1f s = %1.1f Jy\" % (tiono, visnoise)\n",
    "\n",
    "gainnoise=visnoise/numpy.sqrt(float(nstations))\n",
    "\n",
    "imgthreshold=5.0*gainnoise\n",
    "# Weight is the gain for a 1.0 Jy source\"\n",
    "weight=1.0/gainnoise**2\n",
    "\n",
    "print \"Weight for 1 Jy source = %.1f (1/Jy^2)\" % (weight)\n",
    "\n",
    "# Number of sources in the beam abouve 5 sigma in tiono\n",
    "nsources=FOV*sources().numbers(imgthreshold)\n",
    "print \"%.1f sources above pierce threshold (%.4f Jy/beam)\" % (nsources, imgthreshold)\n",
    "\n",
    "ntrials=10\n",
    "lsources=[1,2]"
   ]
  },
  {
   "cell_type": "markdown",
   "metadata": {
    "collapsed": true
   },
   "source": [
    "### Define all configs and plot"
   ]
  },
  {
   "cell_type": "code",
   "execution_count": null,
   "metadata": {
    "collapsed": false,
    "scrolled": false
   },
   "outputs": [],
   "source": [
    "\n",
    "stats={}\n",
    "tel={}\n",
    "mst={}\n",
    "configs = ['LOWBD2', 'LOWBD2-CORE', 'LOWBD2-RASTERHALO','LOWBD2-RASTERHALO%.0fMHz' % (freq*1e-6)]\n",
    "\n",
    "for config in configs:\n",
    "\n",
    "# Define all config variants\n",
    "    tel[config]=TelArray()\n",
    "    if config=='LOWBD2':\n",
    "        tel[config].readKML(kmlfile='V4Drsst512red_2.kml', weight=weight)\n",
    "        tel[config].saveCSV('LOWBD2.csv')\n",
    "    elif config =='LOWBD2-CORE':\n",
    "        tel[config].readCSV('LOWBD2-CORE', l1def='LOWBD2-CORE.csv', recenter=True, weight=weight)\n",
    "    elif config =='LOWBD2-HALO':\n",
    "        tel[config].readCSV('LOWBD2-HALO', l1def='LOWBD2-HALO.csv', recenter=True, weight=weight)\n",
    "    elif config == 'LOWBD2-RASTERHALO':\n",
    "        tel['RASTERHALO']=TelArray()\n",
    "        tel['RASTERHALO'].rasterBoolardy(nhalo=346, name='LOWRASTERHALO', nstations=346, scale=1.0, \\\n",
    "                           rhalo=40.0, rcore=0.0, weight=weight)\n",
    "        tel[config]=TelArray().add(tel['RASTERHALO'],tel['LOWBD2-CORE'],name=config)\n",
    "    elif config == 'LOWBD2-RASTERHALO%.0fMHz' % (freq*1e-6):\n",
    "        tel['RASTERHALO%.0fMHz' % (freq*1e-6)]=TelArray()\n",
    "        tel['RASTERHALO%.0fMHz' % (freq*1e-6)].rasterBoolardy(nhalo=346, \n",
    "                                                              name='LOWRASTERHALO%.0fMHz' % (freq*1e-6), \n",
    "                                                              nstations=346, scale=0.9,\n",
    "                                                              rhalo=HWZ, rcore=0.0, weight=weight)\n",
    "        tel[config]=TelArray().add(tel['RASTERHALO%.0fMHz' % (freq*1e-6)],tel['LOWBD2-CORE'],name=config)\n",
    "    elif config =='LOFAR':\n",
    "        tel[config].readLOFAR(weight=weight)\n",
    "# Plot and save the figure        \n",
    "    tel[config].plot(rmax=HWZ)\n",
    "    plt.show()\n",
    "    plt.savefig('%s.pdf'%config)\n",
    "\n",
    "for config in configs:\n",
    "    mst[config]=tel[config].mst()"
   ]
  },
  {
   "cell_type": "markdown",
   "metadata": {},
   "source": [
    "### Now assess all configs for varying numbers of sources"
   ]
  },
  {
   "cell_type": "code",
   "execution_count": null,
   "metadata": {
    "collapsed": false,
    "scrolled": false
   },
   "outputs": [],
   "source": [
    "\n",
    "stats={}\n",
    "\n",
    "for nsource in lsources:\n",
    "\n",
    "    for config in configs:\n",
    "        print \"Processing %s %d sources\" % (config, nsource)\n",
    "        timestamp()\n",
    "        if nsource==lsources[0]:\n",
    "            stats[config]={}\n",
    "        stats[config][nsource]=trials(ntrials, nsource, tel[config], config)      \n",
    "        \n",
    "timestamp()"
   ]
  },
  {
   "cell_type": "markdown",
   "metadata": {},
   "source": [
    "### Now plot results for all the configs"
   ]
  },
  {
   "cell_type": "code",
   "execution_count": null,
   "metadata": {
    "collapsed": false,
    "scrolled": false
   },
   "outputs": [],
   "source": [
    "plt.clf()\n",
    "\n",
    "for nsource in lsources:\n",
    "    ymax=0.1\n",
    "    for config in stats.keys():\n",
    "        y=stats[config][nsource]['s']\n",
    "        if numpy.max(y)>ymax:\n",
    "            ymax=numpy.max(y)\n",
    "        x=numpy.arange(nnoll)\n",
    "        plt.semilogy(x, y, label=config)\n",
    "    plt.legend(loc=\"upper right\")\n",
    "    plt.xlim([1,1000])\n",
    "    plt.ylim([0.1,ymax])\n",
    "    plt.xlabel('Singular vector index')\n",
    "    plt.ylabel('Singular value')\n",
    "    plt.title('Singular value spectra for different configurations: %d source' % nsource)\n",
    "    plt.show()\n",
    "\n",
    "    plt.savefig('SingularValues_sources%d.pdf' % nsource)"
   ]
  },
  {
   "cell_type": "code",
   "execution_count": null,
   "metadata": {
    "collapsed": false
   },
   "outputs": [],
   "source": [
    "plt.clf()\n",
    "\n",
    "for config in stats.keys():\n",
    "    i=0\n",
    "    x=numpy.zeros(len(lsources))\n",
    "    y=numpy.zeros(len(lsources))\n",
    "    for nsource in lsources:\n",
    "        x[i]=nsource\n",
    "        y[i]=stats[config][nsource]['tsky']/(365.0*24.0*3600.0)\n",
    "        i=i+1\n",
    "    plt.semilogy(x, y, label=config)\n",
    "plt.legend(loc=\"upper right\")\n",
    "plt.xlabel('Number of sources')\n",
    "plt.xlim([0,35])\n",
    "plt.ylabel('Time on-sky to reach 50dB (years)')\n",
    "plt.title('Time on-sky to reach 50dB vs number of sources')\n",
    "plt.show()\n",
    "plt.savefig('Timeonsky.pdf')\n",
    "    "
   ]
  },
  {
   "cell_type": "code",
   "execution_count": null,
   "metadata": {
    "collapsed": false
   },
   "outputs": [],
   "source": [
    "plt.clf()\n",
    "\n",
    "config = 'LOWBD2'\n",
    "\n",
    "for nsource in lsources:\n",
    "    ymax=0.1\n",
    "    y=stats[config][nsource]['s']\n",
    "    if numpy.max(y)>ymax:\n",
    "        ymax=numpy.max(y)\n",
    "    x=numpy.arange(nnoll)\n",
    "    plt.semilogy(x, y, label='Number of sources %d' %nsource)\n",
    "\n",
    "plt.legend(loc=\"upper right\")\n",
    "plt.xlim([1,500])\n",
    "plt.ylim([0.1,ymax])\n",
    "plt.xlabel('Singular vector index')\n",
    "plt.ylabel('Singular value')\n",
    "plt.title('Singular value spectra for different numbers of sources %s' % (config))\n",
    "plt.show()\n",
    "plt.savefig('%s_Sources.pdf' % config)"
   ]
  },
  {
   "cell_type": "code",
   "execution_count": null,
   "metadata": {
    "collapsed": false,
    "scrolled": true
   },
   "outputs": [],
   "source": [
    "printstats(stats)"
   ]
  },
  {
   "cell_type": "code",
   "execution_count": null,
   "metadata": {
    "collapsed": true
   },
   "outputs": [],
   "source": []
  }
 ],
 "metadata": {
  "kernelspec": {
   "display_name": "Python 2",
   "language": "python",
   "name": "python2"
  },
  "language_info": {
   "codemirror_mode": {
    "name": "ipython",
    "version": 2
   },
   "file_extension": ".py",
   "mimetype": "text/x-python",
   "name": "python",
   "nbconvert_exporter": "python",
   "pygments_lexer": "ipython2",
   "version": "2.7.11"
  }
 },
 "nbformat": 4,
 "nbformat_minor": 0
}
