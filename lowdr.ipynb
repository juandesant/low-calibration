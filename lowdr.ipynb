{
 "cells": [
  {
   "cell_type": "code",
   "execution_count": null,
   "metadata": {
    "collapsed": false
   },
   "outputs": [],
   "source": [
    "%matplotlib inline\n",
    "import pylab\n",
    "pylab.rcParams['figure.figsize'] = (8.0, 8.0)\n",
    "#pylab.rcParams['image.cmap'] = 'rainbow' \n",
    "\n",
    "from telutil import *\n",
    "\n",
    "import subprocess\n",
    "print \"Working from Git repository %s\" % subprocess.check_output([\"git\",  \"describe\", \"--long\", \"--all\"])\n",
    "\n",
    "plt.clf()\n",
    "\n",
    "ti=TelIono()\n",
    "\n",
    "J=numpy.arange(1.0,1000.0)\n",
    "tobs=ti.tobs(J,DR=1e4)/(365.0*24.0*3600.0)\n",
    "plt.loglog(J,tobs, color='r', label='DR = 40dB')\n",
    "\n",
    "tobs=ti.tobs(J,DR=1e5)/(365.0*24.0*3600.0)\n",
    "plt.loglog(J,tobs, color='g', label='DR = 50dB')\n",
    "\n",
    "tobs=ti.tobs(J,DR=1e6)/(365.0*24.0*3600.0)\n",
    "plt.loglog(J,tobs, color='b', label='DR = 60dB')\n",
    "\n",
    "plt.xlabel('Noll index J')\n",
    "plt.ylabel('Observing time (years)')\n",
    "plt.title('Observing time as function of highest Noll index (tiono=10s)')\n",
    "\n",
    "plt.legend()\n",
    "\n",
    "plt.show()"
   ]
  },
  {
   "cell_type": "code",
   "execution_count": null,
   "metadata": {
    "collapsed": false
   },
   "outputs": [],
   "source": []
  }
 ],
 "metadata": {
  "kernelspec": {
   "display_name": "Python 2",
   "language": "python",
   "name": "python2"
  },
  "language_info": {
   "codemirror_mode": {
    "name": "ipython",
    "version": 2
   },
   "file_extension": ".py",
   "mimetype": "text/x-python",
   "name": "python",
   "nbconvert_exporter": "python",
   "pygments_lexer": "ipython2",
   "version": "2.7.11"
  }
 },
 "nbformat": 4,
 "nbformat_minor": 0
}
